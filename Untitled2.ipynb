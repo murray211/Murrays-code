{
  "nbformat": 4,
  "nbformat_minor": 0,
  "metadata": {
    "colab": {
      "provenance": [],
      "authorship_tag": "ABX9TyN3x33aNLSd4uLCHoTw7IJr",
      "include_colab_link": true
    },
    "kernelspec": {
      "name": "python3",
      "display_name": "Python 3"
    },
    "language_info": {
      "name": "python"
    }
  },
  "cells": [
    {
      "cell_type": "markdown",
      "metadata": {
        "id": "view-in-github",
        "colab_type": "text"
      },
      "source": [
        "<a href=\"https://colab.research.google.com/github/murray211/Murrays-code/blob/main/Untitled2.ipynb\" target=\"_parent\"><img src=\"https://colab.research.google.com/assets/colab-badge.svg\" alt=\"Open In Colab\"/></a>"
      ]
    },
    {
      "cell_type": "code",
      "source": [
        "num1 = int(45)\n",
        "num2 = int(2)\n",
        "exponent = int(1)\n",
        "product = num2**exponent\n",
        "while exponent != int(10):\n",
        "  exponent += 1\n",
        "  product = num2**exponent\n",
        "  product = (product)\n",
        "\n",
        "  num3 = product % num1\n",
        "\n",
        "  if num3 == 1:\n",
        "    newex = exponent/2\n",
        "    num4 = num2**newex + int(1)\n",
        "    num5 = num2**newex + int(1)\n",
        "\n",
        "a = num4\n",
        "b = num1\n",
        "\n",
        "while b != 0:\n",
        "    remainder = a % b\n",
        "    a = b\n",
        "    b = remainder\n",
        "\n",
        "print(f\"first factor {a}\")\n",
        "num6 = num1/a\n",
        "print(num6)\n",
        "c = num5\n",
        "while b != 0:\n",
        "    remainder = c % b\n",
        "    c = b\n",
        "    b = remainder\n",
        "\n",
        "print(f\"first factor {c}\")\n",
        "num7 = num1/c\n",
        "print(num7)"
      ],
      "metadata": {
        "colab": {
          "base_uri": "https://localhost:8080/"
        },
        "id": "-w_ND6ec4UqT",
        "outputId": "4b10f2d1-8290-470a-ddbe-ce3d6bd2ff15"
      },
      "execution_count": 13,
      "outputs": [
        {
          "output_type": "stream",
          "name": "stdout",
          "text": [
            "first factor 1.0\n",
            "45.0\n",
            "first factor 4097.0\n",
            "0.010983646570661459\n"
          ]
        }
      ]
    }
  ]
}